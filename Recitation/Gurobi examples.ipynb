{
 "cells": [
  {
   "cell_type": "code",
   "execution_count": 34,
   "metadata": {},
   "outputs": [
    {
     "name": "stdout",
     "output_type": "stream",
     "text": [
      "Optimize a model with 3 rows, 2 columns and 6 nonzeros\n",
      "Coefficient statistics:\n",
      "  Matrix range     [5e-01, 5e+00]\n",
      "  Objective range  [1e+00, 1e+00]\n",
      "  Bounds range     [0e+00, 0e+00]\n",
      "  RHS range        [3e+00, 3e+01]\n",
      "Presolve removed 3 rows and 2 columns\n",
      "Presolve time: 0.03s\n",
      "Presolve: All rows and columns removed\n",
      "Iteration    Objective       Primal Inf.    Dual Inf.      Time\n",
      "       0   -5.1000000e+00   0.000000e+00   0.000000e+00      0s\n",
      "\n",
      "Solved in 0 iterations and 0.05 seconds\n",
      "Optimal objective -5.100000000e+00\n",
      "firstvar 4.7\n",
      "secondvar 5.1\n",
      "Obj -5.1\n"
     ]
    }
   ],
   "source": [
    "from gurobipy import *\n",
    "m = Model()\n",
    "x1 = m.addVar (lb= 0 , ub = GRB.INFINITY, obj = 0, vtype=GRB.CONTINUOUS, name=\"firstvar\")\n",
    "x2 = m.addVar (obj = -1, vtype=GRB.CONTINUOUS, name=\"secondvar\")\n",
    "con1 = m.addConstr (4*x1 - x2 >= 8.8, name=\"firstconstr\")\n",
    "con2 = m.addConstr (.5*x1 - x2 >= -2.75, name=\"secondconstr\")\n",
    "con3 = m.addConstr (5*x1 + x2 <= 28.6, name=\"thirdconstr\")\n",
    "m.ModelSense = 1 # 1 for minimization, -1 for maximization, default is 1\n",
    "m.update()\n",
    "m.optimize()\n",
    "\n",
    "print x1.VarName, x1.x\n",
    "print x2.VarName, x2.x\n",
    "print \"Obj\", m.ObjVal"
   ]
  },
  {
   "cell_type": "code",
   "execution_count": 38,
   "metadata": {},
   "outputs": [
    {
     "name": "stdout",
     "output_type": "stream",
     "text": [
      "Optimize a model with 2 rows, 2 columns and 4 nonzeros\n",
      "Variable types: 1 continuous, 1 integer (0 binary)\n",
      "Coefficient statistics:\n",
      "  Matrix range     [5e+00, 7e+00]\n",
      "  Objective range  [3e+03, 4e+03]\n",
      "  Bounds range     [0e+00, 0e+00]\n",
      "  RHS range        [5e+00, 1e+01]\n",
      "Found heuristic solution: objective 6666.6669846\n",
      "Presolve removed 2 rows and 2 columns\n",
      "Presolve time: 0.00s\n",
      "Presolve: All rows and columns removed\n",
      "\n",
      "Explored 0 nodes (0 simplex iterations) in 0.06 seconds\n",
      "Thread count was 1 (of 4 available processors)\n",
      "\n",
      "Solution count 2: 6000 6666.67 \n",
      "\n",
      "Optimal solution found (tolerance 1.00e-04)\n",
      "Best objective 6.000000000000e+03, best bound 6.000000000000e+03, gap 0.0000%\n",
      "Opt. Value= 6000.0\n",
      "x* = 2.0\n",
      "y* = -0.0\n"
     ]
    }
   ],
   "source": [
    "model = Model(\"hello\")\n",
    "x = model.addVar(obj=3000, vtype=\"C\", name=\"x\")\n",
    "y = model.addVar(obj=4000, vtype=\"C\", name=\"y\")\n",
    "L1 = LinExpr([5,6],[x,y])\n",
    "model.addConstr(L1,\">\",10)\n",
    "L2 = LinExpr([7,5],[x,y])\n",
    "model.addConstr(L2,\">\",5)\n",
    "model.ModelSense = 1 # 1 for minimization, -1 for maximization\n",
    "model.update()\n",
    "model.optimize()\n",
    "\n",
    "if model.Status == GRB.OPTIMAL:\n",
    "    print \"Opt. Value=\", model.ObjVal\n",
    "    print \"x* =\", x.x\n",
    "    print \"y* =\", y.x\n",
    "    model.write(\"Linear Program.lp\")\n",
    "    model.write(\"Linear Program.sol\")\n",
    "    model.write(\"Linear Program.mps\")"
   ]
  },
  {
   "cell_type": "code",
   "execution_count": null,
   "metadata": {
    "collapsed": true
   },
   "outputs": [],
   "source": []
  }
 ],
 "metadata": {
  "kernelspec": {
   "display_name": "Python 3",
   "language": "python",
   "name": "python3"
  },
  "language_info": {
   "codemirror_mode": {
    "name": "ipython",
    "version": 3
   },
   "file_extension": ".py",
   "mimetype": "text/x-python",
   "name": "python",
   "nbconvert_exporter": "python",
   "pygments_lexer": "ipython3",
   "version": "3.7.3"
  }
 },
 "nbformat": 4,
 "nbformat_minor": 2
}
