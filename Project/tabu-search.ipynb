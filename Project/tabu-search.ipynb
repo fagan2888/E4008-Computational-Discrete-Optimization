{
 "cells": [
  {
   "cell_type": "code",
   "execution_count": 1,
   "metadata": {},
   "outputs": [],
   "source": [
    "import os\n",
    "import gc\n",
    "import pickle\n",
    "import numpy as np\n",
    "import pandas as pd\n",
    "import warnings\n",
    "warnings.filterwarnings('ignore')\n",
    "\n",
    "# self-defined functions\n",
    "# from helper import *\n",
    "# from tabu_helper import *\n",
    "from tabu import tabu_search"
   ]
  },
  {
   "cell_type": "code",
   "execution_count": 2,
   "metadata": {},
   "outputs": [],
   "source": [
    "currentPath = os.getcwd()"
   ]
  },
  {
   "cell_type": "code",
   "execution_count": 3,
   "metadata": {},
   "outputs": [],
   "source": [
    "with open(currentPath + '/clean_data/sectorMap.pkl', 'rb') as f:\n",
    "    sectorMap = pickle.load(f)\n",
    "    \n",
    "with open(currentPath + '/clean_data/inv_sectorMap.pkl', 'rb') as f:\n",
    "    inv_sectorMap = pickle.load(f)\n",
    "\n",
    "with open(currentPath + '/clean_data/ratingMap.pkl', 'rb') as f:\n",
    "    ratingMap = pickle.load(f)\n",
    "    \n",
    "train = pd.read_csv(currentPath + '/clean_data/train.csv', index_col=0)\n",
    "test = pd.read_csv(currentPath + '/clean_data/test.csv', index_col=0)\n",
    "corr = pd.read_csv(currentPath + '/clean_data/corr.csv', index_col=0)\n",
    "varDF = pd.read_csv(currentPath + '/clean_data/var.csv', index_col=0)\n",
    "\n",
    "\n",
    "train.index = pd.DatetimeIndex(train.index)\n",
    "test.index = pd.DatetimeIndex(test.index)"
   ]
  },
  {
   "cell_type": "code",
   "execution_count": 4,
   "metadata": {},
   "outputs": [],
   "source": [
    "returnTrain = (train.iloc[-1] - train.iloc[0])/train.iloc[0]\n",
    "returnTest = (test.iloc[-1] - test.iloc[0])/test.iloc[0]"
   ]
  },
  {
   "cell_type": "code",
   "execution_count": 5,
   "metadata": {},
   "outputs": [
    {
     "data": {
      "text/plain": [
       "PNW     0.389053\n",
       "APD     0.830356\n",
       "HES     0.354959\n",
       "AFL    -0.102739\n",
       "AMGN    0.511195\n",
       "          ...   \n",
       "MPC     0.151316\n",
       "XYL     1.195713\n",
       "CPRI   -0.051028\n",
       "LYB     0.084145\n",
       "ALLE    0.912145\n",
       "Length: 488, dtype: float64"
      ]
     },
     "execution_count": 5,
     "metadata": {},
     "output_type": "execute_result"
    }
   ],
   "source": [
    "returnTrain"
   ]
  },
  {
   "cell_type": "code",
   "execution_count": 6,
   "metadata": {},
   "outputs": [],
   "source": [
    "alpha = 0.05\n",
    "check_params = {\n",
    "    \"sectorMap\": sectorMap,\n",
    "    \"inv_sectorMap\": inv_sectorMap,\n",
    "    \"corr_df\": corr,\n",
    "    \"risk_series\": varDF[str(alpha)],\n",
    "    \"snum_ub\": 30,\n",
    "    \"snum_lb\": 10,\n",
    "    \"sector_snum_ub\": 6,\n",
    "    \"corr_ub\": 0.5,\n",
    "    \"risk_all_ub\": 0,\n",
    "    \"risk_ind_ub\": 0,\n",
    "    \"risk_all_lb\": -0.03,\n",
    "    \"risk_ind_lb\": -0.05,\n",
    "    \"details\": False\n",
    "}"
   ]
  },
  {
   "cell_type": "code",
   "execution_count": null,
   "metadata": {},
   "outputs": [],
   "source": [
    "testResult = {}"
   ]
  },
  {
   "cell_type": "code",
   "execution_count": 21,
   "metadata": {},
   "outputs": [],
   "source": [
    "tabu_list_size = 20\n",
    "iterations_times = 1000\n",
    "early_stop = 50\n",
    "neighbor_size = 50\n",
    "asp_improve_level = -5\n",
    "seed = None"
   ]
  },
  {
   "cell_type": "code",
   "execution_count": 14,
   "metadata": {},
   "outputs": [
    {
     "name": "stderr",
     "output_type": "stream",
     "text": [
      "\r",
      "  0%|          | 0/1000 [00:00<?, ?it/s]"
     ]
    },
    {
     "name": "stdout",
     "output_type": "stream",
     "text": [
      "seed: 6958\n"
     ]
    },
    {
     "name": "stderr",
     "output_type": "stream",
     "text": [
      "  6%|▌         | 57/1000 [00:24<07:16,  2.16it/s]\n",
      "  0%|          | 0/1000 [00:00<?, ?it/s]"
     ]
    },
    {
     "name": "stdout",
     "output_type": "stream",
     "text": [
      "36.1125366713696\n",
      "\n",
      "\n",
      "\n",
      "seed: 4626\n"
     ]
    },
    {
     "name": "stderr",
     "output_type": "stream",
     "text": [
      "  6%|▌         | 59/1000 [00:22<05:29,  2.86it/s]\n",
      "  0%|          | 0/1000 [00:00<?, ?it/s]"
     ]
    },
    {
     "name": "stdout",
     "output_type": "stream",
     "text": [
      "32.30360468644968\n",
      "\n",
      "\n",
      "\n",
      "seed: 7263\n"
     ]
    },
    {
     "name": "stderr",
     "output_type": "stream",
     "text": [
      "  5%|▍         | 49/1000 [00:18<05:55,  2.68it/s]\n",
      "  0%|          | 0/1000 [00:00<?, ?it/s]"
     ]
    },
    {
     "name": "stdout",
     "output_type": "stream",
     "text": [
      "31.639055739881584\n",
      "\n",
      "\n",
      "\n",
      "seed: 5393\n"
     ]
    },
    {
     "name": "stderr",
     "output_type": "stream",
     "text": [
      "  6%|▌         | 59/1000 [00:23<07:10,  2.19it/s]\n",
      "  0%|          | 0/1000 [00:00<?, ?it/s]"
     ]
    },
    {
     "name": "stdout",
     "output_type": "stream",
     "text": [
      "40.42598877189703\n",
      "\n",
      "\n",
      "\n",
      "seed: 6711\n"
     ]
    },
    {
     "name": "stderr",
     "output_type": "stream",
     "text": [
      "  6%|▌         | 62/1000 [00:24<05:49,  2.68it/s]\n",
      "  0%|          | 0/1000 [00:00<?, ?it/s]"
     ]
    },
    {
     "name": "stdout",
     "output_type": "stream",
     "text": [
      "33.112662867516114\n",
      "\n",
      "\n",
      "\n",
      "seed: 4880\n"
     ]
    },
    {
     "name": "stderr",
     "output_type": "stream",
     "text": [
      "  9%|▉         | 89/1000 [00:36<06:41,  2.27it/s]\n",
      "  0%|          | 0/1000 [00:00<?, ?it/s]"
     ]
    },
    {
     "name": "stdout",
     "output_type": "stream",
     "text": [
      "37.426477941637856\n",
      "\n",
      "\n",
      "\n",
      "seed: 4945\n"
     ]
    },
    {
     "name": "stderr",
     "output_type": "stream",
     "text": [
      "  7%|▋         | 69/1000 [00:25<06:02,  2.57it/s]\n"
     ]
    },
    {
     "name": "stdout",
     "output_type": "stream",
     "text": [
      "37.604532904661305\n",
      "\n",
      "\n",
      "\n",
      "seed: 6928\n"
     ]
    },
    {
     "name": "stderr",
     "output_type": "stream",
     "text": [
      "  5%|▌         | 52/1000 [00:20<05:33,  2.84it/s]\n",
      "  0%|          | 0/1000 [00:00<?, ?it/s]"
     ]
    },
    {
     "name": "stdout",
     "output_type": "stream",
     "text": [
      "28.857343203822712\n",
      "\n",
      "\n",
      "\n",
      "seed: 5114\n"
     ]
    },
    {
     "name": "stderr",
     "output_type": "stream",
     "text": [
      "  7%|▋         | 70/1000 [00:28<06:22,  2.43it/s]\n",
      "  0%|          | 0/1000 [00:00<?, ?it/s]"
     ]
    },
    {
     "name": "stdout",
     "output_type": "stream",
     "text": [
      "41.099933687835225\n",
      "\n",
      "\n",
      "\n",
      "seed: 6159\n"
     ]
    },
    {
     "name": "stderr",
     "output_type": "stream",
     "text": [
      "  7%|▋         | 74/1000 [00:31<06:18,  2.45it/s]\n",
      "  0%|          | 0/1000 [00:00<?, ?it/s]"
     ]
    },
    {
     "name": "stdout",
     "output_type": "stream",
     "text": [
      "34.422321506316706\n",
      "\n",
      "\n",
      "\n",
      "seed: 7341\n"
     ]
    },
    {
     "name": "stderr",
     "output_type": "stream",
     "text": [
      "  8%|▊         | 80/1000 [00:33<08:08,  1.88it/s]\n",
      "  0%|          | 0/1000 [00:00<?, ?it/s]"
     ]
    },
    {
     "name": "stdout",
     "output_type": "stream",
     "text": [
      "37.40513174407831\n",
      "\n",
      "\n",
      "\n",
      "seed: 9089\n"
     ]
    },
    {
     "name": "stderr",
     "output_type": "stream",
     "text": [
      "  8%|▊         | 83/1000 [00:34<06:43,  2.27it/s]\n",
      "  0%|          | 0/1000 [00:00<?, ?it/s]"
     ]
    },
    {
     "name": "stdout",
     "output_type": "stream",
     "text": [
      "32.85334669465592\n",
      "\n",
      "\n",
      "\n",
      "seed: 6808\n"
     ]
    },
    {
     "name": "stderr",
     "output_type": "stream",
     "text": [
      "  8%|▊         | 83/1000 [00:33<07:32,  2.03it/s]\n",
      "  0%|          | 0/1000 [00:00<?, ?it/s]"
     ]
    },
    {
     "name": "stdout",
     "output_type": "stream",
     "text": [
      "40.17025748873322\n",
      "\n",
      "\n",
      "\n",
      "seed: 4302\n"
     ]
    },
    {
     "name": "stderr",
     "output_type": "stream",
     "text": [
      "  8%|▊         | 83/1000 [00:34<06:34,  2.32it/s]\n",
      "  0%|          | 0/1000 [00:00<?, ?it/s]"
     ]
    },
    {
     "name": "stdout",
     "output_type": "stream",
     "text": [
      "33.88185013072197\n",
      "\n",
      "\n",
      "\n",
      "seed: 6783\n"
     ]
    },
    {
     "name": "stderr",
     "output_type": "stream",
     "text": [
      "  6%|▋         | 64/1000 [00:30<07:40,  2.03it/s]\n",
      "  0%|          | 0/1000 [00:00<?, ?it/s]"
     ]
    },
    {
     "name": "stdout",
     "output_type": "stream",
     "text": [
      "41.53773452364513\n",
      "\n",
      "\n",
      "\n",
      "seed: 3308\n"
     ]
    },
    {
     "name": "stderr",
     "output_type": "stream",
     "text": [
      "  9%|▉         | 92/1000 [00:39<09:36,  1.58it/s]\n",
      "  0%|          | 0/1000 [00:00<?, ?it/s]"
     ]
    },
    {
     "name": "stdout",
     "output_type": "stream",
     "text": [
      "36.894155021765\n",
      "\n",
      "\n",
      "\n",
      "seed: 1670\n"
     ]
    },
    {
     "name": "stderr",
     "output_type": "stream",
     "text": [
      "  5%|▍         | 49/1000 [00:21<06:54,  2.29it/s]\n",
      "  0%|          | 0/1000 [00:00<?, ?it/s]"
     ]
    },
    {
     "name": "stdout",
     "output_type": "stream",
     "text": [
      "24.896873275780155\n",
      "\n",
      "\n",
      "\n",
      "seed: 1599\n"
     ]
    },
    {
     "name": "stderr",
     "output_type": "stream",
     "text": [
      "  6%|▋         | 63/1000 [00:25<06:22,  2.45it/s]\n",
      "  0%|          | 0/1000 [00:00<?, ?it/s]"
     ]
    },
    {
     "name": "stdout",
     "output_type": "stream",
     "text": [
      "44.68265400614269\n",
      "\n",
      "\n",
      "\n",
      "seed: 1882\n"
     ]
    },
    {
     "name": "stderr",
     "output_type": "stream",
     "text": [
      "  7%|▋         | 68/1000 [00:25<05:31,  2.82it/s]\n",
      "  0%|          | 0/1000 [00:00<?, ?it/s]"
     ]
    },
    {
     "name": "stdout",
     "output_type": "stream",
     "text": [
      "32.834347284244664\n",
      "\n",
      "\n",
      "\n",
      "seed: 5466\n"
     ]
    },
    {
     "name": "stderr",
     "output_type": "stream",
     "text": [
      "  6%|▌         | 56/1000 [00:21<05:41,  2.77it/s]\n",
      "  0%|          | 0/1000 [00:00<?, ?it/s]"
     ]
    },
    {
     "name": "stdout",
     "output_type": "stream",
     "text": [
      "34.49029522805103\n",
      "\n",
      "\n",
      "\n",
      "seed: 9143\n"
     ]
    },
    {
     "name": "stderr",
     "output_type": "stream",
     "text": [
      "  5%|▌         | 54/1000 [00:20<05:33,  2.83it/s]\n",
      "  0%|          | 0/1000 [00:00<?, ?it/s]"
     ]
    },
    {
     "name": "stdout",
     "output_type": "stream",
     "text": [
      "31.770135056034842\n",
      "\n",
      "\n",
      "\n",
      "seed: 6503\n"
     ]
    },
    {
     "name": "stderr",
     "output_type": "stream",
     "text": [
      "  6%|▌         | 61/1000 [00:23<05:40,  2.76it/s]\n",
      "  0%|          | 0/1000 [00:00<?, ?it/s]"
     ]
    },
    {
     "name": "stdout",
     "output_type": "stream",
     "text": [
      "38.057584449011046\n",
      "\n",
      "\n",
      "\n",
      "seed: 5370\n"
     ]
    },
    {
     "name": "stderr",
     "output_type": "stream",
     "text": [
      "  6%|▌         | 55/1000 [00:23<06:56,  2.27it/s]\n",
      "  0%|          | 0/1000 [00:00<?, ?it/s]"
     ]
    },
    {
     "name": "stdout",
     "output_type": "stream",
     "text": [
      "34.98764988277176\n",
      "\n",
      "\n",
      "\n",
      "seed: 9847\n"
     ]
    },
    {
     "name": "stderr",
     "output_type": "stream",
     "text": [
      "  7%|▋         | 72/1000 [00:36<07:23,  2.09it/s]\n",
      "  0%|          | 0/1000 [00:00<?, ?it/s]"
     ]
    },
    {
     "name": "stdout",
     "output_type": "stream",
     "text": [
      "46.385874439460046\n",
      "\n",
      "\n",
      "\n",
      "seed: 1605\n"
     ]
    },
    {
     "name": "stderr",
     "output_type": "stream",
     "text": [
      "  7%|▋         | 70/1000 [00:26<05:26,  2.85it/s]\n",
      "  0%|          | 0/1000 [00:00<?, ?it/s]"
     ]
    },
    {
     "name": "stdout",
     "output_type": "stream",
     "text": [
      "30.776926546382775\n",
      "\n",
      "\n",
      "\n",
      "seed: 4803\n"
     ]
    },
    {
     "name": "stderr",
     "output_type": "stream",
     "text": [
      "  7%|▋         | 71/1000 [00:29<06:52,  2.25it/s]\n",
      "  0%|          | 0/1000 [00:00<?, ?it/s]"
     ]
    },
    {
     "name": "stdout",
     "output_type": "stream",
     "text": [
      "40.66768866348241\n",
      "\n",
      "\n",
      "\n",
      "seed: 7559\n"
     ]
    },
    {
     "name": "stderr",
     "output_type": "stream",
     "text": [
      "  7%|▋         | 70/1000 [00:28<07:18,  2.12it/s]\n",
      "  0%|          | 0/1000 [00:00<?, ?it/s]"
     ]
    },
    {
     "name": "stdout",
     "output_type": "stream",
     "text": [
      "40.09936390779824\n",
      "\n",
      "\n",
      "\n",
      "seed: 6021\n"
     ]
    },
    {
     "name": "stderr",
     "output_type": "stream",
     "text": [
      "  6%|▌         | 56/1000 [00:23<06:48,  2.31it/s]\n",
      "  0%|          | 0/1000 [00:00<?, ?it/s]"
     ]
    },
    {
     "name": "stdout",
     "output_type": "stream",
     "text": [
      "32.64799997992572\n",
      "\n",
      "\n",
      "\n",
      "seed: 7678\n"
     ]
    },
    {
     "name": "stderr",
     "output_type": "stream",
     "text": [
      "  8%|▊         | 77/1000 [00:31<06:31,  2.36it/s]"
     ]
    },
    {
     "name": "stdout",
     "output_type": "stream",
     "text": [
      "41.90186583782314\n",
      "\n",
      "\n",
      "\n"
     ]
    },
    {
     "name": "stderr",
     "output_type": "stream",
     "text": [
      "\n"
     ]
    }
   ],
   "source": [
    "for s in np.random.randint(10000, size=30):\n",
    "    if s in list(testResult.keys()):\n",
    "        continue  \n",
    "        \n",
    "    print('seed: %s' % s)\n",
    "    testResult[s] = tabu_search(\n",
    "        return_df=returnTrain, params=check_params, tabu_list_size=20, iterations_times=1000, early_stop=30, \n",
    "        neighbor_size=50, asp_improve_level=-3, seed=s\n",
    "    )\n",
    "    gc.collect()\n",
    "    print(testResult[s]['best_perf'])\n",
    "    print('\\n\\n')"
   ]
  },
  {
   "cell_type": "code",
   "execution_count": 15,
   "metadata": {},
   "outputs": [
    {
     "data": {
      "text/plain": [
       "[(1670, 24.896873275780155),\n",
       " (2682, 28.121687653102658),\n",
       " (3901, 28.607003290193358),\n",
       " (6928, 28.857343203822712),\n",
       " (8709, 29.082108231532843),\n",
       " (6375, 29.648924069247595),\n",
       " (9171, 30.278625531688775),\n",
       " (3168, 30.71017663611119),\n",
       " (1605, 30.776926546382775),\n",
       " (6084, 31.465951182516495),\n",
       " (9741, 31.584705861239208),\n",
       " (7263, 31.639055739881584),\n",
       " (9143, 31.770135056034842),\n",
       " (7516, 31.8804802889486),\n",
       " (2359, 31.979610425822838),\n",
       " (4963, 32.0599531237861),\n",
       " (938, 32.2515817842915),\n",
       " (4626, 32.30360468644968),\n",
       " (6021, 32.64799997992572),\n",
       " (9564, 32.65669235193773),\n",
       " (1864, 32.72239084942567),\n",
       " (1882, 32.834347284244664),\n",
       " (9089, 32.85334669465592),\n",
       " (7431, 33.09370745515693),\n",
       " (7461, 33.094568269701185),\n",
       " (6711, 33.112662867516114),\n",
       " (126, 33.35835639521162),\n",
       " (135, 33.45405237402626),\n",
       " (643, 33.49610973398126),\n",
       " (4302, 33.88185013072197),\n",
       " (9180, 33.98404187224783),\n",
       " (5566, 34.06869296734343),\n",
       " (6159, 34.422321506316706),\n",
       " (5466, 34.49029522805103),\n",
       " (4873, 34.63612839665274),\n",
       " (9068, 34.839047390555635),\n",
       " (6125, 34.85055339647104),\n",
       " (1453, 34.88452598938719),\n",
       " (5370, 34.98764988277176),\n",
       " (5769, 35.04835807792271),\n",
       " (5049, 35.11313270779145),\n",
       " (1423, 35.258142249007655),\n",
       " (9173, 35.27441447638662),\n",
       " (454, 35.29015643318207),\n",
       " (7415, 35.581659206914814),\n",
       " (4511, 35.76701307889021),\n",
       " (6253, 35.855840910760286),\n",
       " (6404, 35.93455610634008),\n",
       " (6958, 36.1125366713696),\n",
       " (9606, 36.25169915899508),\n",
       " (8131, 36.299429387908376),\n",
       " (9552, 36.38292168263636),\n",
       " (99, 36.55625398287532),\n",
       " (1270, 36.593644325130775),\n",
       " (8891, 36.80451649599267),\n",
       " (3308, 36.894155021765),\n",
       " (4182, 36.97468404676379),\n",
       " (7240, 37.11863328999541),\n",
       " (7341, 37.40513174407831),\n",
       " (4880, 37.426477941637856),\n",
       " (4945, 37.604532904661305),\n",
       " (101, 37.93613369363158),\n",
       " (8366, 37.9471436260004),\n",
       " (1875, 37.96743540559342),\n",
       " (6503, 38.057584449011046),\n",
       " (6340, 38.11666650841499),\n",
       " (8425, 38.530132865227706),\n",
       " (358, 38.589552691838136),\n",
       " (2452, 39.13420363057933),\n",
       " (7504, 39.23655799259084),\n",
       " (6050, 39.39143322707453),\n",
       " (1336, 39.639439407773814),\n",
       " (7559, 40.09936390779824),\n",
       " (6808, 40.17025748873322),\n",
       " (5393, 40.42598877189703),\n",
       " (8708, 40.560408695651866),\n",
       " (4803, 40.66768866348241),\n",
       " (6930, 41.05898518543093),\n",
       " (5114, 41.099933687835225),\n",
       " (3913, 41.492581787584534),\n",
       " (6783, 41.53773452364513),\n",
       " (7678, 41.90186583782314),\n",
       " (1408, 43.088612207426934),\n",
       " (6685, 44.25653581676572),\n",
       " (4255, 44.286728119773045),\n",
       " (1599, 44.68265400614269),\n",
       " (9847, 46.385874439460046),\n",
       " (4694, 46.65888498649443)]"
      ]
     },
     "execution_count": 15,
     "metadata": {},
     "output_type": "execute_result"
    }
   ],
   "source": [
    "sorted([(k, v['best_perf']) for k, v in testResult.items()], key=lambda x: x[1])"
   ]
  },
  {
   "cell_type": "code",
   "execution_count": 16,
   "metadata": {},
   "outputs": [
    {
     "name": "stdout",
     "output_type": "stream",
     "text": [
      "46.65888498649443\n"
     ]
    },
    {
     "data": {
      "text/plain": [
       "<matplotlib.axes._subplots.AxesSubplot at 0x7f4f8f898208>"
      ]
     },
     "execution_count": 16,
     "metadata": {},
     "output_type": "execute_result"
    },
    {
     "data": {
      "image/png": "[encoded data removed]",
      "text/plain": [
       "<Figure size 432x288 with 1 Axes>"
      ]
     },
     "metadata": {
      "needs_background": "light"
     },
     "output_type": "display_data"
    }
   ],
   "source": [
    "%matplotlib inline \n",
    "\n",
    "print(testResult[4694]['best_perf'])\n",
    "pd.Series(testResult[4694]['best_perfList']).plot()\n",
    "pd.Series(testResult[4694]['cand_perfList']).plot()"
   ]
  },
  {
   "cell_type": "code",
   "execution_count": null,
   "metadata": {},
   "outputs": [],
   "source": []
  },
  {
   "cell_type": "code",
   "execution_count": null,
   "metadata": {},
   "outputs": [],
   "source": []
  },
  {
   "cell_type": "code",
   "execution_count": null,
   "metadata": {},
   "outputs": [],
   "source": [
    "tabu_list_size = 20\n",
    "iterations_times = 1000\n",
    "early_stop = 50\n",
    "neighbor_size = 50\n",
    "asp_improve_level = -5\n",
    "seed = None"
   ]
  },
  {
   "cell_type": "code",
   "execution_count": 22,
   "metadata": {},
   "outputs": [
    {
     "name": "stderr",
     "output_type": "stream",
     "text": [
      " 23%|██▎       | 231/1000 [01:28<04:51,  2.64it/s]\n"
     ]
    }
   ],
   "source": [
    "tryOne = tabu_search(\n",
    "    return_df=returnTrain, \n",
    "    params=check_params, \n",
    "    tabu_list_size=tabu_list_size, \n",
    "    iterations_times=iterations_times, \n",
    "    early_stop=early_stop, \n",
    "    neighbor_size=neighbor_size, \n",
    "    asp_improve_level=asp_improve_level, \n",
    "    seed=seed\n",
    ")"
   ]
  },
  {
   "cell_type": "code",
   "execution_count": 23,
   "metadata": {},
   "outputs": [
    {
     "data": {
      "text/plain": [
       "[7.51410704504589,\n",
       " 9.346066994872823,\n",
       " 15.359809921307745,\n",
       " 15.879100310560242,\n",
       " 16.947726298923662,\n",
       " 17.962798083863426,\n",
       " 20.78853922630739,\n",
       " 21.697663832764846,\n",
       " 22.934330888430623,\n",
       " 24.320448025090055,\n",
       " 26.132761616909402,\n",
       " 27.150286779727633,\n",
       " 28.564226657354663,\n",
       " 30.455863636787555,\n",
       " 30.455863636787555,\n",
       " 30.455863636787555,\n",
       " 30.455863636787555,\n",
       " 30.455863636787555,\n",
       " 30.530377639515585,\n",
       " 30.80555730354873,\n",
       " 34.13063684862413,\n",
       " 35.2607521769023,\n",
       " 35.805922864194784,\n",
       " 36.60778278271486,\n",
       " 36.85667044338626,\n",
       " 36.85667044338626,\n",
       " 36.85667044338626,\n",
       " 36.85667044338626,\n",
       " 36.85667044338626,\n",
       " 36.85667044338626,\n",
       " 36.90546413117468,\n",
       " 37.40321234635519,\n",
       " 37.75968330842515,\n",
       " 38.171743280725345,\n",
       " 39.90396444187988,\n",
       " 40.11124764533382,\n",
       " 40.35679531566632,\n",
       " 40.74397567420348,\n",
       " 41.305278197071885,\n",
       " 41.305278197071885,\n",
       " 41.305278197071885,\n",
       " 41.305278197071885,\n",
       " 41.305278197071885,\n",
       " 41.305278197071885,\n",
       " 41.305278197071885,\n",
       " 41.305278197071885,\n",
       " 41.305278197071885,\n",
       " 41.708889115972,\n",
       " 41.708889115972,\n",
       " 41.7423261807304,\n",
       " 42.20588106761611,\n",
       " 42.30366667446589,\n",
       " 42.56033040485916,\n",
       " 42.56033040485916,\n",
       " 42.56033040485916,\n",
       " 43.50174350083441,\n",
       " 44.520790287465275,\n",
       " 45.03104343016614,\n",
       " 45.1016212502354,\n",
       " 45.561121664517856,\n",
       " 45.561121664517856,\n",
       " 45.561121664517856,\n",
       " 45.88421011882182,\n",
       " 45.88421011882182,\n",
       " 46.037604581158675,\n",
       " 46.47931250797987,\n",
       " 46.81594806345154,\n",
       " 46.81594806345154,\n",
       " 48.202180933303545,\n",
       " 48.28878122227874,\n",
       " 48.28878122227874,\n",
       " 48.98585447748379,\n",
       " 49.47973658556839,\n",
       " 49.62487492960868,\n",
       " 49.62487492960868,\n",
       " 49.62487492960868,\n",
       " 49.62487492960868,\n",
       " 49.62487492960868,\n",
       " 49.62487492960868,\n",
       " 49.62487492960868,\n",
       " 49.62487492960868,\n",
       " 49.62487492960868,\n",
       " 49.62487492960868,\n",
       " 49.62487492960868,\n",
       " 49.62487492960868,\n",
       " 49.62487492960868,\n",
       " 49.62487492960868,\n",
       " 49.62487492960868,\n",
       " 49.62487492960868,\n",
       " 49.62487492960868,\n",
       " 49.62487492960868,\n",
       " 49.62487492960868,\n",
       " 49.62487492960868,\n",
       " 49.62487492960868,\n",
       " 49.62487492960868,\n",
       " 49.62487492960868,\n",
       " 49.62487492960868,\n",
       " 50.16221601472431,\n",
       " 50.72132522883078,\n",
       " 50.72132522883078,\n",
       " 50.72132522883078,\n",
       " 50.72132522883078,\n",
       " 50.72132522883078,\n",
       " 50.72132522883078,\n",
       " 50.72132522883078,\n",
       " 50.72132522883078,\n",
       " 50.93153651186829,\n",
       " 50.97425466370119,\n",
       " 51.02832190383654,\n",
       " 51.02832190383654,\n",
       " 51.03161785334498,\n",
       " 51.03161785334498,\n",
       " 51.03161785334498,\n",
       " 51.03161785334498,\n",
       " 51.050578971769575,\n",
       " 51.050578971769575,\n",
       " 51.050578971769575,\n",
       " 51.050578971769575,\n",
       " 51.050578971769575,\n",
       " 51.050578971769575,\n",
       " 51.050578971769575,\n",
       " 51.050578971769575,\n",
       " 51.050578971769575,\n",
       " 51.050578971769575,\n",
       " 51.050578971769575,\n",
       " 51.050578971769575,\n",
       " 51.050578971769575,\n",
       " 51.050578971769575,\n",
       " 51.050578971769575,\n",
       " 51.050578971769575,\n",
       " 51.050578971769575,\n",
       " 51.050578971769575,\n",
       " 51.050578971769575,\n",
       " 51.050578971769575,\n",
       " 51.050578971769575,\n",
       " 51.050578971769575,\n",
       " 51.050578971769575,\n",
       " 51.050578971769575,\n",
       " 51.050578971769575,\n",
       " 51.050578971769575,\n",
       " 51.050578971769575,\n",
       " 51.050578971769575,\n",
       " 51.050578971769575,\n",
       " 51.050578971769575,\n",
       " 51.050578971769575,\n",
       " 51.34305996906883,\n",
       " 51.34305996906883,\n",
       " 51.34305996906883,\n",
       " 51.34305996906883,\n",
       " 51.34305996906883,\n",
       " 51.34305996906883,\n",
       " 51.34305996906883,\n",
       " 51.34305996906883,\n",
       " 51.34305996906883,\n",
       " 51.34305996906883,\n",
       " 51.34305996906883,\n",
       " 51.34305996906883,\n",
       " 51.34305996906883,\n",
       " 51.34305996906883,\n",
       " 51.34305996906883,\n",
       " 51.34305996906883,\n",
       " 51.34305996906883,\n",
       " 51.34305996906883,\n",
       " 51.34305996906883,\n",
       " 51.34305996906883,\n",
       " 51.34305996906883,\n",
       " 51.34305996906883,\n",
       " 51.34305996906883,\n",
       " 51.34305996906883,\n",
       " 51.34305996906883,\n",
       " 51.34305996906883,\n",
       " 51.34305996906883,\n",
       " 51.34305996906883,\n",
       " 51.34305996906883,\n",
       " 51.34305996906883,\n",
       " 51.34305996906883,\n",
       " 51.34305996906883,\n",
       " 51.34305996906883,\n",
       " 51.34305996906883,\n",
       " 51.34305996906883,\n",
       " 51.38420289670954,\n",
       " 51.38420289670954,\n",
       " 51.38420289670954,\n",
       " 51.38420289670954,\n",
       " 51.38420289670954,\n",
       " 51.38420289670954,\n",
       " 51.38420289670954,\n",
       " 51.38420289670954,\n",
       " 51.38420289670954,\n",
       " 51.38420289670954,\n",
       " 51.38420289670954,\n",
       " 51.38420289670954,\n",
       " 51.38420289670954,\n",
       " 51.38420289670954,\n",
       " 51.38420289670954,\n",
       " 51.38420289670954,\n",
       " 51.38420289670954,\n",
       " 51.38420289670954,\n",
       " 51.38420289670954,\n",
       " 51.38420289670954,\n",
       " 51.38420289670954,\n",
       " 51.38420289670954,\n",
       " 51.38420289670954,\n",
       " 51.38420289670954,\n",
       " 51.38420289670954,\n",
       " 51.38420289670954,\n",
       " 51.38420289670954,\n",
       " 51.38420289670954,\n",
       " 51.38420289670954,\n",
       " 51.38420289670954,\n",
       " 51.38420289670954,\n",
       " 51.38420289670954,\n",
       " 51.38420289670954,\n",
       " 51.38420289670954,\n",
       " 51.38420289670954,\n",
       " 51.38420289670954,\n",
       " 51.38420289670954,\n",
       " 51.38420289670954,\n",
       " 51.38420289670954,\n",
       " 51.38420289670954,\n",
       " 51.38420289670954,\n",
       " 51.38420289670954,\n",
       " 51.38420289670954,\n",
       " 51.38420289670954,\n",
       " 51.38420289670954,\n",
       " 51.38420289670954,\n",
       " 51.38420289670954,\n",
       " 51.38420289670954,\n",
       " 51.38420289670954,\n",
       " 51.38420289670954,\n",
       " 51.38420289670954]"
      ]
     },
     "execution_count": 23,
     "metadata": {},
     "output_type": "execute_result"
    }
   ],
   "source": [
    "tryOne['best_perfList']"
   ]
  },
  {
   "cell_type": "code",
   "execution_count": 24,
   "metadata": {},
   "outputs": [
    {
     "name": "stderr",
     "output_type": "stream",
     "text": [
      " 22%|██▏       | 218/1000 [04:15<12:54,  1.01it/s]\n"
     ]
    }
   ],
   "source": [
    "tryTwo = tabu_search(\n",
    "    return_df=returnTrain, \n",
    "    params=check_params, \n",
    "    tabu_list_size=tabu_list_size, \n",
    "    iterations_times=iterations_times, \n",
    "    early_stop=early_stop, \n",
    "    neighbor_size=neighbor_size, \n",
    "    asp_improve_level=asp_improve_level, \n",
    "    seed=seed\n",
    ")"
   ]
  },
  {
   "cell_type": "code",
   "execution_count": 25,
   "metadata": {},
   "outputs": [
    {
     "data": {
      "text/plain": [
       "[12.210436557552296,\n",
       " 15.44447256309161,\n",
       " 17.494797508933974,\n",
       " 19.204169845258765,\n",
       " 20.875304094261868,\n",
       " 21.250954173639983,\n",
       " 23.47733043843161,\n",
       " 24.239852027378074,\n",
       " 25.03169335748431,\n",
       " 25.45856078024536,\n",
       " 28.20679274629911,\n",
       " 28.9930952852366,\n",
       " 29.108916175160367,\n",
       " 29.479973027771308,\n",
       " 30.203085155917762,\n",
       " 30.203085155917762,\n",
       " 30.931444010495323,\n",
       " 30.931444010495323,\n",
       " 30.931444010495323,\n",
       " 30.931444010495323,\n",
       " 35.18223269151585,\n",
       " 35.849557469403315,\n",
       " 35.849557469403315,\n",
       " 36.06213361204277,\n",
       " 36.61899891052148,\n",
       " 37.12694129527522,\n",
       " 37.12694129527522,\n",
       " 37.344537342785245,\n",
       " 37.41875541537797,\n",
       " 37.761389749994876,\n",
       " 37.821477360643634,\n",
       " 37.821477360643634,\n",
       " 38.13781298529229,\n",
       " 38.68123635423182,\n",
       " 38.68123635423182,\n",
       " 38.68123635423182,\n",
       " 38.814185107692914,\n",
       " 39.0463326670316,\n",
       " 39.05414909732024,\n",
       " 39.91183219104693,\n",
       " 40.28993734437013,\n",
       " 40.28993734437013,\n",
       " 40.28993734437013,\n",
       " 40.28993734437013,\n",
       " 41.22750166112349,\n",
       " 41.9650693964641,\n",
       " 42.02034887230238,\n",
       " 42.02034887230238,\n",
       " 42.02034887230238,\n",
       " 42.73842993620583,\n",
       " 42.73842993620583,\n",
       " 42.73842993620583,\n",
       " 42.73842993620583,\n",
       " 42.73842993620583,\n",
       " 42.73842993620583,\n",
       " 42.73842993620583,\n",
       " 42.73842993620583,\n",
       " 42.73842993620583,\n",
       " 42.73842993620583,\n",
       " 42.73842993620583,\n",
       " 42.73842993620583,\n",
       " 42.73842993620583,\n",
       " 42.73842993620583,\n",
       " 42.73842993620583,\n",
       " 42.73842993620583,\n",
       " 42.73842993620583,\n",
       " 42.73842993620583,\n",
       " 42.73842993620583,\n",
       " 42.73842993620583,\n",
       " 42.73842993620583,\n",
       " 42.73842993620583,\n",
       " 43.7522533314662,\n",
       " 43.7522533314662,\n",
       " 44.29444140456989,\n",
       " 44.29444140456989,\n",
       " 44.29444140456989,\n",
       " 44.29444140456989,\n",
       " 44.29444140456989,\n",
       " 44.29444140456989,\n",
       " 44.29444140456989,\n",
       " 44.29444140456989,\n",
       " 44.29444140456989,\n",
       " 44.29444140456989,\n",
       " 44.29444140456989,\n",
       " 44.29444140456989,\n",
       " 44.29444140456989,\n",
       " 44.29444140456989,\n",
       " 44.29444140456989,\n",
       " 44.29444140456989,\n",
       " 44.29444140456989,\n",
       " 44.29444140456989,\n",
       " 44.29444140456989,\n",
       " 44.29444140456989,\n",
       " 44.29444140456989,\n",
       " 44.29444140456989,\n",
       " 44.29444140456989,\n",
       " 44.29444140456989,\n",
       " 44.456888978735535,\n",
       " 44.466146584351485,\n",
       " 44.645704442349434,\n",
       " 44.645704442349434,\n",
       " 44.907812676759875,\n",
       " 44.907812676759875,\n",
       " 44.907812676759875,\n",
       " 46.03789391433002,\n",
       " 46.03789391433002,\n",
       " 46.03789391433002,\n",
       " 46.03789391433002,\n",
       " 46.03789391433002,\n",
       " 46.03789391433002,\n",
       " 46.03789391433002,\n",
       " 46.03789391433002,\n",
       " 46.03789391433002,\n",
       " 46.03789391433002,\n",
       " 46.03789391433002,\n",
       " 46.03789391433002,\n",
       " 46.03789391433002,\n",
       " 46.03789391433002,\n",
       " 46.03789391433002,\n",
       " 46.03789391433002,\n",
       " 46.03789391433002,\n",
       " 46.03789391433002,\n",
       " 46.03789391433002,\n",
       " 46.03789391433002,\n",
       " 46.03789391433002,\n",
       " 46.03789391433002,\n",
       " 46.03789391433002,\n",
       " 46.03789391433002,\n",
       " 46.03789391433002,\n",
       " 46.03789391433002,\n",
       " 46.03789391433002,\n",
       " 46.03789391433002,\n",
       " 46.03789391433002,\n",
       " 46.03789391433002,\n",
       " 46.03789391433002,\n",
       " 46.03789391433002,\n",
       " 46.03789391433002,\n",
       " 46.03789391433002,\n",
       " 46.03789391433002,\n",
       " 46.03789391433002,\n",
       " 46.03789391433002,\n",
       " 46.03789391433002,\n",
       " 46.03789391433002,\n",
       " 46.03789391433002,\n",
       " 46.03789391433002,\n",
       " 46.03789391433002,\n",
       " 47.129489825425566,\n",
       " 47.129489825425566,\n",
       " 47.129489825425566,\n",
       " 47.129489825425566,\n",
       " 47.129489825425566,\n",
       " 48.92588660154799,\n",
       " 48.92588660154799,\n",
       " 48.961776792697805,\n",
       " 49.64503586746176,\n",
       " 49.64503586746176,\n",
       " 49.64503586746176,\n",
       " 49.64503586746176,\n",
       " 49.64503586746176,\n",
       " 49.64503586746176,\n",
       " 49.64503586746176,\n",
       " 49.64503586746176,\n",
       " 49.64503586746176,\n",
       " 49.64503586746176,\n",
       " 49.64503586746176,\n",
       " 49.64503586746176,\n",
       " 49.73029981374168,\n",
       " 50.16982424576441,\n",
       " 50.16982424576441,\n",
       " 50.16982424576441,\n",
       " 50.16982424576441,\n",
       " 50.16982424576441,\n",
       " 50.16982424576441,\n",
       " 50.16982424576441,\n",
       " 50.16982424576441,\n",
       " 50.16982424576441,\n",
       " 50.16982424576441,\n",
       " 50.16982424576441,\n",
       " 50.16982424576441,\n",
       " 50.16982424576441,\n",
       " 50.16982424576441,\n",
       " 50.16982424576441,\n",
       " 50.16982424576441,\n",
       " 50.16982424576441,\n",
       " 50.16982424576441,\n",
       " 50.16982424576441,\n",
       " 50.16982424576441,\n",
       " 50.16982424576441,\n",
       " 50.16982424576441,\n",
       " 50.16982424576441,\n",
       " 50.16982424576441,\n",
       " 50.16982424576441,\n",
       " 50.16982424576441,\n",
       " 50.16982424576441,\n",
       " 50.16982424576441,\n",
       " 50.16982424576441,\n",
       " 50.16982424576441,\n",
       " 50.16982424576441,\n",
       " 50.16982424576441,\n",
       " 50.16982424576441,\n",
       " 50.16982424576441,\n",
       " 50.16982424576441,\n",
       " 50.16982424576441,\n",
       " 50.16982424576441,\n",
       " 50.16982424576441,\n",
       " 50.16982424576441,\n",
       " 50.16982424576441,\n",
       " 50.16982424576441,\n",
       " 50.16982424576441,\n",
       " 50.16982424576441,\n",
       " 50.16982424576441,\n",
       " 50.16982424576441,\n",
       " 50.16982424576441,\n",
       " 50.16982424576441,\n",
       " 50.16982424576441,\n",
       " 50.16982424576441,\n",
       " 50.16982424576441,\n",
       " 50.16982424576441]"
      ]
     },
     "execution_count": 25,
     "metadata": {},
     "output_type": "execute_result"
    }
   ],
   "source": [
    "tryTwo['best_perfList']"
   ]
  },
  {
   "cell_type": "code",
   "execution_count": 26,
   "metadata": {},
   "outputs": [
    {
     "name": "stderr",
     "output_type": "stream",
     "text": [
      " 26%|██▌       | 259/1000 [04:38<10:37,  1.16it/s]\n"
     ]
    },
    {
     "data": {
      "text/plain": [
       "[15.60912624095113,\n",
       " 16.39643136344556,\n",
       " 18.4349552888308,\n",
       " 19.00667077780866,\n",
       " 19.80275490239149,\n",
       " 21.08805814407744,\n",
       " 22.501998021704473,\n",
       " 23.225110149850924,\n",
       " 24.20031676142117,\n",
       " 24.820057635827357,\n",
       " 25.422073551512398,\n",
       " 26.036559532820807,\n",
       " 26.7846848933284,\n",
       " 27.197498015754988,\n",
       " 28.58361515241442,\n",
       " 30.633940098256783,\n",
       " 31.144561184646992,\n",
       " 31.144561184646992,\n",
       " 31.753617426237213,\n",
       " 31.753617426237213,\n",
       " 32.106599997684185,\n",
       " 32.92392851459874,\n",
       " 33.22523159391896,\n",
       " 34.47347906671342,\n",
       " 34.53584233081205,\n",
       " 36.611474975006836,\n",
       " 36.81948846860643,\n",
       " 36.81948846860643,\n",
       " 38.22351348306836,\n",
       " 38.22351348306836,\n",
       " 38.22351348306836,\n",
       " 38.22351348306836,\n",
       " 38.53428381750153,\n",
       " 38.55192646329154,\n",
       " 38.55192646329154,\n",
       " 38.55192646329154,\n",
       " 39.37621008763914,\n",
       " 39.55226140658841,\n",
       " 39.55226140658841,\n",
       " 39.55226140658841,\n",
       " 40.06216302777217,\n",
       " 41.001326977323984,\n",
       " 41.001326977323984,\n",
       " 41.134192196362825,\n",
       " 41.4455321648475,\n",
       " 41.5289146111379,\n",
       " 41.82239593095467,\n",
       " 42.54651222414097,\n",
       " 42.77510565940498,\n",
       " 42.866273903304105,\n",
       " 42.95447292910289,\n",
       " 42.95447292910289,\n",
       " 43.15189463023824,\n",
       " 43.15189463023824,\n",
       " 43.15189463023824,\n",
       " 43.15189463023824,\n",
       " 43.15189463023824,\n",
       " 43.15189463023824,\n",
       " 43.15189463023824,\n",
       " 43.15189463023824,\n",
       " 43.271946270748614,\n",
       " 43.271946270748614,\n",
       " 43.271946270748614,\n",
       " 43.271946270748614,\n",
       " 43.29152570916647,\n",
       " 43.29152570916647,\n",
       " 43.29152570916647,\n",
       " 43.29152570916647,\n",
       " 43.61406055749558,\n",
       " 43.61406055749558,\n",
       " 43.61406055749558,\n",
       " 43.61406055749558,\n",
       " 43.61406055749558,\n",
       " 43.61406055749558,\n",
       " 43.61406055749558,\n",
       " 43.61406055749558,\n",
       " 43.61406055749558,\n",
       " 43.61406055749558,\n",
       " 43.61406055749558,\n",
       " 43.61406055749558,\n",
       " 43.61406055749558,\n",
       " 43.61406055749558,\n",
       " 43.61406055749558,\n",
       " 43.61406055749558,\n",
       " 45.70673186172609,\n",
       " 45.70673186172609,\n",
       " 45.70673186172609,\n",
       " 45.70673186172609,\n",
       " 45.70673186172609,\n",
       " 45.70673186172609,\n",
       " 45.70673186172609,\n",
       " 45.70673186172609,\n",
       " 45.70673186172609,\n",
       " 45.70673186172609,\n",
       " 45.70673186172609,\n",
       " 45.70673186172609,\n",
       " 45.70673186172609,\n",
       " 45.70673186172609,\n",
       " 45.70673186172609,\n",
       " 45.70673186172609,\n",
       " 45.70673186172609,\n",
       " 45.70673186172609,\n",
       " 45.70673186172609,\n",
       " 45.70673186172609,\n",
       " 45.70673186172609,\n",
       " 45.70673186172609,\n",
       " 45.70673186172609,\n",
       " 45.70673186172609,\n",
       " 45.70673186172609,\n",
       " 45.70673186172609,\n",
       " 45.70673186172609,\n",
       " 45.70673186172609,\n",
       " 45.70673186172609,\n",
       " 45.70673186172609,\n",
       " 45.70673186172609,\n",
       " 45.70673186172609,\n",
       " 45.70673186172609,\n",
       " 45.70673186172609,\n",
       " 45.70673186172609,\n",
       " 45.70673186172609,\n",
       " 45.70673186172609,\n",
       " 46.14272967807984,\n",
       " 46.338577114713694,\n",
       " 46.42425033182844,\n",
       " 46.42425033182844,\n",
       " 46.42425033182844,\n",
       " 46.934499501133175,\n",
       " 47.04328061808006,\n",
       " 47.04328061808006,\n",
       " 47.04328061808006,\n",
       " 47.04328061808006,\n",
       " 47.441864334121,\n",
       " 47.53541968196835,\n",
       " 47.53541968196835,\n",
       " 47.80412417008483,\n",
       " 47.80412417008483,\n",
       " 47.99315952651759,\n",
       " 47.99315952651759,\n",
       " 47.99315952651759,\n",
       " 48.324316466296004,\n",
       " 48.324316466296004,\n",
       " 48.324316466296004,\n",
       " 48.324316466296004,\n",
       " 48.324316466296004,\n",
       " 48.324316466296004,\n",
       " 48.324316466296004,\n",
       " 48.324316466296004,\n",
       " 48.324316466296004,\n",
       " 48.324316466296004,\n",
       " 48.324316466296004,\n",
       " 48.324316466296004,\n",
       " 48.42331961732839,\n",
       " 48.42331961732839,\n",
       " 48.68474801454714,\n",
       " 48.68474801454714,\n",
       " 49.02329582433469,\n",
       " 49.02329582433469,\n",
       " 49.02329582433469,\n",
       " 49.02329582433469,\n",
       " 49.02329582433469,\n",
       " 49.02329582433469,\n",
       " 49.02329582433469,\n",
       " 49.02329582433469,\n",
       " 49.02329582433469,\n",
       " 49.02329582433469,\n",
       " 49.02329582433469,\n",
       " 49.02329582433469,\n",
       " 49.02329582433469,\n",
       " 49.02329582433469,\n",
       " 49.02329582433469,\n",
       " 49.02329582433469,\n",
       " 49.02329582433469,\n",
       " 49.02329582433469,\n",
       " 49.02329582433469,\n",
       " 49.02329582433469,\n",
       " 49.02329582433469,\n",
       " 49.02329582433469,\n",
       " 49.02329582433469,\n",
       " 49.02329582433469,\n",
       " 49.02329582433469,\n",
       " 49.02329582433469,\n",
       " 49.02329582433469,\n",
       " 49.02329582433469,\n",
       " 49.02329582433469,\n",
       " 49.02329582433469,\n",
       " 49.02329582433469,\n",
       " 49.02329582433469,\n",
       " 49.02329582433469,\n",
       " 49.02329582433469,\n",
       " 49.02329582433469,\n",
       " 49.02329582433469,\n",
       " 49.02329582433469,\n",
       " 49.02329582433469,\n",
       " 49.02329582433469,\n",
       " 49.02329582433469,\n",
       " 49.02329582433469,\n",
       " 49.02329582433469,\n",
       " 49.02329582433469,\n",
       " 49.94104863996472,\n",
       " 49.94104863996472,\n",
       " 49.94104863996472,\n",
       " 49.94104863996472,\n",
       " 49.94104863996472,\n",
       " 50.161743118408985,\n",
       " 50.161743118408985,\n",
       " 51.59206090480678,\n",
       " 51.59206090480678,\n",
       " 51.59206090480678,\n",
       " 51.73524881356602,\n",
       " 51.73524881356602,\n",
       " 51.73524881356602,\n",
       " 51.73524881356602,\n",
       " 51.73524881356602,\n",
       " 51.73524881356602,\n",
       " 51.73524881356602,\n",
       " 51.73524881356602,\n",
       " 51.73524881356602,\n",
       " 51.73524881356602,\n",
       " 51.73524881356602,\n",
       " 51.73524881356602,\n",
       " 51.73524881356602,\n",
       " 51.73524881356602,\n",
       " 51.73524881356602,\n",
       " 51.73524881356602,\n",
       " 51.73524881356602,\n",
       " 51.73524881356602,\n",
       " 51.73524881356602,\n",
       " 51.73524881356602,\n",
       " 51.73524881356602,\n",
       " 51.73524881356602,\n",
       " 51.73524881356602,\n",
       " 51.73524881356602,\n",
       " 51.73524881356602,\n",
       " 51.73524881356602,\n",
       " 51.73524881356602,\n",
       " 51.73524881356602,\n",
       " 51.73524881356602,\n",
       " 51.73524881356602,\n",
       " 51.73524881356602,\n",
       " 51.73524881356602,\n",
       " 51.73524881356602,\n",
       " 51.73524881356602,\n",
       " 51.73524881356602,\n",
       " 51.73524881356602,\n",
       " 51.73524881356602,\n",
       " 51.73524881356602,\n",
       " 51.73524881356602,\n",
       " 51.73524881356602,\n",
       " 51.73524881356602,\n",
       " 51.73524881356602,\n",
       " 51.73524881356602,\n",
       " 51.73524881356602,\n",
       " 51.73524881356602,\n",
       " 51.73524881356602,\n",
       " 51.73524881356602,\n",
       " 51.73524881356602,\n",
       " 51.73524881356602,\n",
       " 51.73524881356602,\n",
       " 51.73524881356602]"
      ]
     },
     "execution_count": 26,
     "metadata": {},
     "output_type": "execute_result"
    }
   ],
   "source": [
    "tryThird = tabu_search(\n",
    "    return_df=returnTrain, \n",
    "    params=check_params, \n",
    "    tabu_list_size=tabu_list_size, \n",
    "    iterations_times=iterations_times, \n",
    "    early_stop=early_stop, \n",
    "    neighbor_size=neighbor_size, \n",
    "    asp_improve_level=asp_improve_level, \n",
    "    seed=seed\n",
    ")\n",
    "tryThird['best_perfList']"
   ]
  },
  {
   "cell_type": "code",
   "execution_count": 27,
   "metadata": {},
   "outputs": [
    {
     "name": "stderr",
     "output_type": "stream",
     "text": [
      " 20%|█▉        | 197/1000 [10:32<36:35,  2.73s/it] \n"
     ]
    },
    {
     "data": {
      "text/plain": [
       "[11.91481974827869,\n",
       " 13.859578651199941,\n",
       " 16.25930227258333,\n",
       " 18.6623607110403,\n",
       " 20.723561963531047,\n",
       " 23.333125957905168,\n",
       " 23.948705766909264,\n",
       " 25.87263338085028,\n",
       " 28.257248765465665,\n",
       " 30.483625030257297,\n",
       " 31.148325574721902,\n",
       " 32.5066436734422,\n",
       " 32.65130329785534,\n",
       " 36.502406404767505,\n",
       " 36.87352222160587,\n",
       " 37.75367965401886,\n",
       " 37.75367965401886,\n",
       " 37.75367965401886,\n",
       " 38.03947163966202,\n",
       " 38.03947163966202,\n",
       " 38.0565303158722,\n",
       " 38.0565303158722,\n",
       " 39.86381948378296,\n",
       " 39.86381948378296,\n",
       " 40.026503325815746,\n",
       " 40.17717615930044,\n",
       " 40.371477117717944,\n",
       " 40.506661731826625,\n",
       " 40.80960296928379,\n",
       " 41.3100623534289,\n",
       " 41.3100623534289,\n",
       " 41.3100623534289,\n",
       " 41.3100623534289,\n",
       " 41.3100623534289,\n",
       " 41.890078515625305,\n",
       " 41.890078515625305,\n",
       " 41.890078515625305,\n",
       " 42.578671594818154,\n",
       " 44.264177242521576,\n",
       " 44.264177242521576,\n",
       " 44.264177242521576,\n",
       " 44.388319276382475,\n",
       " 44.388319276382475,\n",
       " 44.676420610773846,\n",
       " 44.676420610773846,\n",
       " 45.30095855577923,\n",
       " 45.30095855577923,\n",
       " 45.30095855577923,\n",
       " 45.30095855577923,\n",
       " 45.30095855577923,\n",
       " 46.06652176173487,\n",
       " 46.51096604380299,\n",
       " 46.51096604380299,\n",
       " 46.51096604380299,\n",
       " 46.51096604380299,\n",
       " 46.51096604380299,\n",
       " 46.51096604380299,\n",
       " 46.51096604380299,\n",
       " 46.51096604380299,\n",
       " 46.51096604380299,\n",
       " 46.51096604380299,\n",
       " 46.51096604380299,\n",
       " 46.51096604380299,\n",
       " 46.51096604380299,\n",
       " 46.51096604380299,\n",
       " 46.51096604380299,\n",
       " 46.51096604380299,\n",
       " 48.6490955663964,\n",
       " 48.6490955663964,\n",
       " 48.890917006110726,\n",
       " 48.890917006110726,\n",
       " 48.890917006110726,\n",
       " 48.901740259322935,\n",
       " 49.08345817283953,\n",
       " 49.101172395558706,\n",
       " 49.27841551849405,\n",
       " 49.27841551849405,\n",
       " 49.27841551849405,\n",
       " 49.64527063012245,\n",
       " 49.93574948199811,\n",
       " 49.93574948199811,\n",
       " 49.93574948199811,\n",
       " 49.93574948199811,\n",
       " 49.93574948199811,\n",
       " 49.93574948199811,\n",
       " 49.93574948199811,\n",
       " 49.93574948199811,\n",
       " 49.93574948199811,\n",
       " 49.93574948199811,\n",
       " 49.93574948199811,\n",
       " 49.93574948199811,\n",
       " 49.93574948199811,\n",
       " 49.93574948199811,\n",
       " 49.93574948199811,\n",
       " 49.93574948199811,\n",
       " 49.93574948199811,\n",
       " 49.93574948199811,\n",
       " 49.93574948199811,\n",
       " 49.93574948199811,\n",
       " 49.93574948199811,\n",
       " 49.93574948199811,\n",
       " 49.93574948199811,\n",
       " 49.93574948199811,\n",
       " 49.93574948199811,\n",
       " 49.93574948199811,\n",
       " 49.93574948199811,\n",
       " 49.93574948199811,\n",
       " 49.93574948199811,\n",
       " 49.93574948199811,\n",
       " 49.93574948199811,\n",
       " 49.93574948199811,\n",
       " 49.93574948199811,\n",
       " 49.93574948199811,\n",
       " 49.93574948199811,\n",
       " 49.93574948199811,\n",
       " 49.93574948199811,\n",
       " 49.93574948199811,\n",
       " 49.93574948199811,\n",
       " 49.93574948199811,\n",
       " 49.93574948199811,\n",
       " 49.93574948199811,\n",
       " 49.93574948199811,\n",
       " 49.93574948199811,\n",
       " 49.93574948199811,\n",
       " 49.93574948199811,\n",
       " 49.93574948199811,\n",
       " 49.93574948199811,\n",
       " 49.93574948199811,\n",
       " 51.35557773787711,\n",
       " 51.35557773787711,\n",
       " 51.35557773787711,\n",
       " 51.35557773787711,\n",
       " 51.35557773787711,\n",
       " 51.35557773787711,\n",
       " 51.35557773787711,\n",
       " 51.35557773787711,\n",
       " 51.35557773787711,\n",
       " 51.35557773787711,\n",
       " 51.35557773787711,\n",
       " 51.40967015509981,\n",
       " 52.202350573105456,\n",
       " 52.834374009083156,\n",
       " 52.834374009083156,\n",
       " 52.834374009083156,\n",
       " 53.25582731606274,\n",
       " 53.25582731606274,\n",
       " 53.99071496961585,\n",
       " 53.99071496961585,\n",
       " 53.99071496961585,\n",
       " 53.99071496961585,\n",
       " 53.99071496961585,\n",
       " 53.99071496961585,\n",
       " 53.99071496961585,\n",
       " 53.99071496961585,\n",
       " 53.99071496961585,\n",
       " 53.99071496961585,\n",
       " 53.99071496961585,\n",
       " 53.99071496961585,\n",
       " 53.99071496961585,\n",
       " 53.99071496961585,\n",
       " 53.99071496961585,\n",
       " 53.99071496961585,\n",
       " 53.99071496961585,\n",
       " 53.99071496961585,\n",
       " 53.99071496961585,\n",
       " 53.99071496961585,\n",
       " 53.99071496961585,\n",
       " 53.99071496961585,\n",
       " 53.99071496961585,\n",
       " 53.99071496961585,\n",
       " 53.99071496961585,\n",
       " 53.99071496961585,\n",
       " 53.99071496961585,\n",
       " 53.99071496961585,\n",
       " 53.99071496961585,\n",
       " 53.99071496961585,\n",
       " 53.99071496961585,\n",
       " 53.99071496961585,\n",
       " 53.99071496961585,\n",
       " 53.99071496961585,\n",
       " 53.99071496961585,\n",
       " 53.99071496961585,\n",
       " 53.99071496961585,\n",
       " 53.99071496961585,\n",
       " 53.99071496961585,\n",
       " 53.99071496961585,\n",
       " 53.99071496961585,\n",
       " 53.99071496961585,\n",
       " 53.99071496961585,\n",
       " 53.99071496961585,\n",
       " 53.99071496961585,\n",
       " 53.99071496961585,\n",
       " 53.99071496961585,\n",
       " 53.99071496961585,\n",
       " 53.99071496961585,\n",
       " 53.99071496961585,\n",
       " 53.99071496961585]"
      ]
     },
     "execution_count": 27,
     "metadata": {},
     "output_type": "execute_result"
    }
   ],
   "source": [
    "tryFourth = tabu_search(\n",
    "    return_df=returnTrain, \n",
    "    params=check_params, \n",
    "    tabu_list_size=tabu_list_size, \n",
    "    iterations_times=iterations_times, \n",
    "    early_stop=early_stop, \n",
    "    neighbor_size=neighbor_size, \n",
    "    asp_improve_level=asp_improve_level, \n",
    "    seed=seed\n",
    ")\n",
    "tryFourth['best_perfList']"
   ]
  },
  {
   "cell_type": "code",
   "execution_count": null,
   "metadata": {},
   "outputs": [],
   "source": []
  }
 ],
 "metadata": {
  "kernelspec": {
   "display_name": "Python 3",
   "language": "python",
   "name": "python3"
  },
  "language_info": {
   "codemirror_mode": {
    "name": "ipython",
    "version": 3
   },
   "file_extension": ".py",
   "mimetype": "text/x-python",
   "name": "python",
   "nbconvert_exporter": "python",
   "pygments_lexer": "ipython3",
   "version": "3.7.3"
  }
 },
 "nbformat": 4,
 "nbformat_minor": 2
}
