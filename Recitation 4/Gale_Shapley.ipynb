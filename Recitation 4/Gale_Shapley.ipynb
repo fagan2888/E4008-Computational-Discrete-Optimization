{
 "cells": [
  {
   "cell_type": "code",
   "execution_count": 54,
   "metadata": {
    "collapsed": true
   },
   "outputs": [],
   "source": [
    "import numpy as np\n",
    "import copy"
   ]
  },
  {
   "cell_type": "code",
   "execution_count": 55,
   "metadata": {
    "collapsed": true
   },
   "outputs": [],
   "source": [
    "#generate random bipartite graphs with complete preference list\n",
    "def rand_matching(n):\n",
    "    A_pref = {} # keys = men, values = list of preference of key on women\n",
    "    B_pref = {} # keys = women, values = list of preference of key on men\n",
    "    for i in range(n):\n",
    "        #preference list for every member in A\n",
    "        pref_a = list(np.random.permutation(n))\n",
    "        pref_a = ['B'+ str(x) for x in pref_a]\n",
    "        A_pref['A' + str(i)] = pref_a\n",
    "\n",
    "        #preference list for every member in B\n",
    "        pref_b = list(np.random.permutation(n))\n",
    "        pref_b = ['A'+ str(x) for x in pref_b]\n",
    "        B_pref['B' + str(i)] = pref_b\n",
    "    return A_pref, B_pref"
   ]
  },
  {
   "cell_type": "code",
   "execution_count": 68,
   "metadata": {},
   "outputs": [],
   "source": [
    "Aprefers, Bprefers = rand_matching(50)\n",
    "# print(Aprefers)\n",
    "# print(Bprefers)"
   ]
  },
  {
   "cell_type": "code",
   "execution_count": 69,
   "metadata": {
    "collapsed": true
   },
   "outputs": [],
   "source": [
    "#executes gale_shapley\n",
    "#input is A and B's preference lists\n",
    "#outputs stable matching and the last a and b that was matched (used for Gale Shapley extended)\n",
    "#note that this assumes that |A|=|B| and both sets have complete preference lists\n",
    "#suppose not, one should implement different escape conditions - ie, stop trying to match current_a if its preference list becomes empty\n",
    "def gale_shapley(A_pref, B_pref):\n",
    "    A_pref2 = copy.deepcopy(A_pref) # need this because later we pop the preference lists stored in A_pref2, B_pref2\n",
    "    B_pref2 = copy.deepcopy(B_pref)\n",
    "    A = sorted(A_pref.keys()) # A = ['A0', 'A1', ..., 'A{n-1}']\n",
    "    B = sorted(B_pref.keys()) # B = ['B0', 'B1', ..., 'B{n-1}']\n",
    "    A_free = A[:] # = A initially\n",
    "    A_matched  = {} # keys = women (B), values = currently matched men (A)\n",
    "    while A_free: # while there are still unmatched men\n",
    "        current_a = A_free.pop(0)\n",
    "        #get current node's preference list\n",
    "        pref_a = A_pref2[current_a]\n",
    "\n",
    "        not_matched = 1\n",
    "        while not_matched:\n",
    "            partner = pref_a.pop(0) # modified pref_a since pop(0) will remove the first element in the preference list\n",
    "            match = A_matched.get(partner) # get() returns None if partner is not yet in A_matched\n",
    "            if not match: # i.e., if match == None\n",
    "            # if not yet matched\n",
    "                A_matched[partner] = current_a # match current_a with partner\n",
    "                #stores last pair matched\n",
    "                last_a = current_a\n",
    "                last_b = partner\n",
    "                not_matched = 0\n",
    "            else: # if partner is matched to some man already\n",
    "            # if potential partner already matched, check preference list\n",
    "                pref_b = B_pref2[partner]\n",
    "                if pref_b.index(match) > pref_b.index(current_a):\n",
    "                    # prefers current_a\n",
    "                    A_matched[partner] = current_a\n",
    "                    not_matched = 0\n",
    "                    # no need to update last pair matched, because the original match will be matched later\n",
    "                    # add original match to A_free list to be matched again\n",
    "                    A_free.append(match)\n",
    "\n",
    "    return A_matched, last_a, last_b"
   ]
  },
  {
   "cell_type": "code",
   "execution_count": 70,
   "metadata": {},
   "outputs": [
    {
     "name": "stdout",
     "output_type": "stream",
     "text": [
      "{'B31': 'A25', 'B1': 'A1', 'B37': 'A10', 'B24': 'A11', 'B5': 'A30', 'B17': 'A13', 'B20': 'A35', 'B41': 'A15', 'B4': 'A17', 'B16': 'A43', 'B3': 'A18', 'B19': 'A47', 'B39': 'A26', 'B25': 'A45', 'B26': 'A21', 'B0': 'A22', 'B11': 'A41', 'B42': 'A44', 'B36': 'A16', 'B15': 'A27', 'B45': 'A46', 'B47': 'A37', 'B35': 'A3', 'B38': 'A31', 'B28': 'A32', 'B21': 'A40', 'B7': 'A0', 'B8': 'A24', 'B44': 'A48', 'B30': 'A4', 'B29': 'A20', 'B12': 'A14', 'B48': 'A36', 'B2': 'A7', 'B34': 'A42', 'B33': 'A23', 'B18': 'A33', 'B13': 'A2', 'B23': 'A49', 'B40': 'A29', 'B46': 'A9', 'B32': 'A6', 'B27': 'A19', 'B43': 'A5', 'B6': 'A39', 'B14': 'A34', 'B9': 'A12', 'B22': 'A38', 'B49': 'A28', 'B10': 'A8'}\n",
      "A8\n",
      "B10\n"
     ]
    }
   ],
   "source": [
    "A_matched, last_a, last_b = gale_shapley(Aprefers, Bprefers)\n",
    "print(A_matched)\n",
    "print(last_a)\n",
    "print(last_b)"
   ]
  },
  {
   "cell_type": "code",
   "execution_count": 71,
   "metadata": {
    "collapsed": true
   },
   "outputs": [],
   "source": [
    "#checks if there are blocking pairs for any matching (whether the input matching is stable)\n",
    "#takes input matching, A's preference list, and B's preference list\n",
    "def check(final_match, Aprefers, Bprefers):\n",
    "    blocking_pairs = 0\n",
    "    inverse_match = dict((v,k) for k,v in final_match.items()) # keys in final_match are women (B), in inverse_match are men (A)\n",
    "    for b, a in final_match.items():\n",
    "        #for every pair (a,b) in matching, take all that a prefers over b, and all that b prefers over a\n",
    "        #these are potential blocking pairs\n",
    "        bpref = Bprefers[b]\n",
    "        b_block = bpref[:bpref.index(a)] # b_block contains all the men (A's) that b prefers to her current match a\n",
    "        apref = Aprefers[a]\n",
    "        a_block = apref[:apref.index(b)] # a_block contains all the women (B's) that a prefers to his current match b\n",
    "        #check all of their matchings to see if they all prefer their matching over b\n",
    "        for a1 in b_block: # for every man (a1) that b prefers to the current match a\n",
    "            a1_b = inverse_match[a1] # a1_b is the woman matched to a1 in the current matching\n",
    "            a1_pref = Aprefers[a1]\n",
    "            if a1_pref.index(a1_b) > a1_pref.index(b): # this means a1 prefers b to his current matching\n",
    "                print(\"%s and %s like each other better than \"\n",
    "                      \"their present partners: %s and %s, respectively\"\n",
    "                      % (b, a1, a, a1_b))\n",
    "                blocking_pairs += 1\n",
    "\n",
    "        for b1 in a_block:\n",
    "            b1_a = final_match[b1]\n",
    "            b1_pref = Bprefers[b1]\n",
    "            if b1_pref.index(b1_a) > b1_pref.index(a):\n",
    "                print(\"%s and %s like each other better than \"\n",
    "                      \"their present partners: %s and %s, respectively\"\n",
    "                      % (a, b1, b, b1_a))\n",
    "                blocking_pairs += 1\n",
    "    print(\"total number of blocking pairs = %d\" % blocking_pairs)"
   ]
  },
  {
   "cell_type": "code",
   "execution_count": 72,
   "metadata": {},
   "outputs": [
    {
     "name": "stdout",
     "output_type": "stream",
     "text": [
      "total number of blocking pairs = 0\n"
     ]
    }
   ],
   "source": [
    "check(A_matched, Aprefers, Bprefers)"
   ]
  },
  {
   "cell_type": "code",
   "execution_count": 61,
   "metadata": {
    "collapsed": true
   },
   "outputs": [],
   "source": [
    "#gale_shapley extended; takes A's and B's preference lists, outputs Pareto-optimal matching (stable/unstable)\n",
    "def gale_shapley_extended(A_pref, B_pref):\n",
    "    #initial run of gale shapley\n",
    "    A_unfixed = sorted(A_pref.keys())\n",
    "    B_unfixed = sorted(B_pref.keys())\n",
    "    A_pref2 = copy.deepcopy(A_pref)\n",
    "    B_pref2 = copy.deepcopy(B_pref)\n",
    "    A_matched, last_a, last_b = gale_shapley(A_pref2, B_pref2)\n",
    "    n = len(A_matched)\n",
    "    fixed_matches = {}\n",
    "    for i in range(n-1):\n",
    "        #fix the match of last_a and last_b\n",
    "        A_unfixed.remove(last_a)\n",
    "        B_unfixed.remove(last_b)\n",
    "        fixed_matches[last_b] = last_a\n",
    "        #remove last_a and last_b from preference list\n",
    "        del A_pref2[last_a]\n",
    "        del B_pref2[last_b]\n",
    "        #remove last_a and last_b from everyone else's preference list\n",
    "        for j in A_unfixed:\n",
    "            A_pref2[j].remove(last_b)\n",
    "        for j in B_unfixed:\n",
    "            B_pref2[j].remove(last_a)\n",
    "        #run Gale Shapley again\n",
    "        A_matched, last_a, last_b = gale_shapley(A_pref2, B_pref2)\n",
    "\n",
    "    A_matched.update(fixed_matches)\n",
    "\n",
    "    return A_matched"
   ]
  },
  {
   "cell_type": "code",
   "execution_count": 73,
   "metadata": {},
   "outputs": [
    {
     "name": "stdout",
     "output_type": "stream",
     "text": [
      "{'B31': 'A0', 'B10': 'A8', 'B49': 'A28', 'B22': 'A38', 'B32': 'A19', 'B45': 'A23', 'B9': 'A12', 'B46': 'A9', 'B7': 'A34', 'B6': 'A26', 'B19': 'A47', 'B30': 'A44', 'B33': 'A39', 'B29': 'A20', 'B44': 'A36', 'B23': 'A5', 'B14': 'A35', 'B36': 'A16', 'B8': 'A24', 'B4': 'A2', 'B43': 'A17', 'B11': 'A41', 'B27': 'A46', 'B16': 'A43', 'B2': 'A7', 'B40': 'A6', 'B13': 'A49', 'B18': 'A48', 'B25': 'A45', 'B34': 'A42', 'B48': 'A40', 'B12': 'A4', 'B39': 'A37', 'B21': 'A33', 'B28': 'A32', 'B38': 'A31', 'B5': 'A30', 'B35': 'A3', 'B47': 'A29', 'B15': 'A27', 'B42': 'A25', 'B0': 'A22', 'B26': 'A21', 'B3': 'A18', 'B41': 'A15', 'B20': 'A14', 'B17': 'A13', 'B24': 'A11', 'B37': 'A10', 'B1': 'A1'}\n"
     ]
    }
   ],
   "source": [
    "final_match = gale_shapley_extended(Aprefers,Bprefers)\n",
    "print(final_match)"
   ]
  },
  {
   "cell_type": "code",
   "execution_count": 74,
   "metadata": {
    "collapsed": true
   },
   "outputs": [],
   "source": [
    "#compare number of members of A that prefers gale_shapley extended matching over gale shapley matching\n",
    "#takes input A and B's preference list, Gale_shapley matching, and galey shapley extended matching\n",
    "def compare(A_pref, B_pref, A_matched, final_match):\n",
    "    A = sorted(A_pref.keys())\n",
    "    improved_A = 0\n",
    "    bad_A = 0\n",
    "    for i in A:\n",
    "        pref_a = A_pref[i]\n",
    "        match_new = list(final_match.keys())[list(final_match.values()).index(i)] # woman matched to man i in GSE\n",
    "        match_old = list(A_matched.keys())[list(A_matched.values()).index(i)] # woman matched to man i in GS\n",
    "        if pref_a.index(match_new) < pref_a.index(match_old): # women in GSE is preferred\n",
    "            improved_A += 1\n",
    "        elif pref_a.index(match_new) > pref_a.index(match_old):\n",
    "            bad_A += 1\n",
    "\n",
    "    print(\"%d members of A are doing better than before\" % improved_A)\n",
    "    print(\"%d members of A are doing worse than before\" % bad_A)"
   ]
  },
  {
   "cell_type": "code",
   "execution_count": 75,
   "metadata": {},
   "outputs": [
    {
     "name": "stdout",
     "output_type": "stream",
     "text": [
      "23 members of A are doing better than before\n",
      "0 members of A are doing worse than before\n"
     ]
    }
   ],
   "source": [
    "compare(Aprefers, Bprefers, A_matched, final_match)"
   ]
  },
  {
   "cell_type": "code",
   "execution_count": 76,
   "metadata": {},
   "outputs": [
    {
     "name": "stdout",
     "output_type": "stream",
     "text": [
      "A8 and B4 like each other better than their present partners: B10 and A2, respectively\n",
      "A28 and B45 like each other better than their present partners: B49 and A23, respectively\n",
      "A38 and B30 like each other better than their present partners: B22 and A44, respectively\n",
      "A19 and B30 like each other better than their present partners: B32 and A44, respectively\n",
      "B45 and A28 like each other better than their present partners: A23 and B49, respectively\n",
      "A23 and B40 like each other better than their present partners: B45 and A6, respectively\n",
      "A12 and B18 like each other better than their present partners: B9 and A48, respectively\n",
      "B30 and A38 like each other better than their present partners: A44 and B22, respectively\n",
      "B30 and A19 like each other better than their present partners: A44 and B32, respectively\n",
      "B4 and A8 like each other better than their present partners: A2 and B10, respectively\n",
      "B40 and A23 like each other better than their present partners: A6 and B45, respectively\n",
      "B18 and A12 like each other better than their present partners: A48 and B9, respectively\n",
      "total number of blocking pairs = 12\n"
     ]
    }
   ],
   "source": [
    "check(final_match, Aprefers, Bprefers)"
   ]
  },
  {
   "cell_type": "code",
   "execution_count": null,
   "metadata": {
    "collapsed": true
   },
   "outputs": [],
   "source": []
  }
 ],
 "metadata": {
  "kernelspec": {
   "display_name": "Python 3",
   "language": "python",
   "name": "python3"
  },
  "language_info": {
   "codemirror_mode": {
    "name": "ipython",
    "version": 3
   },
   "file_extension": ".py",
   "mimetype": "text/x-python",
   "name": "python",
   "nbconvert_exporter": "python",
   "pygments_lexer": "ipython3",
   "version": "3.6.5"
  }
 },
 "nbformat": 4,
 "nbformat_minor": 2
}
