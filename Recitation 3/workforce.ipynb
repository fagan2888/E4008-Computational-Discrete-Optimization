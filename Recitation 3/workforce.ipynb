{
 "cells": [
  {
   "cell_type": "code",
   "execution_count": 1,
   "metadata": {},
   "outputs": [
    {
     "ename": "ModuleNotFoundError",
     "evalue": "No module named 'gurobipy'",
     "output_type": "error",
     "traceback": [
      "\u001b[0;31m---------------------------------------------------------------------------\u001b[0m",
      "\u001b[0;31mModuleNotFoundError\u001b[0m                       Traceback (most recent call last)",
      "\u001b[0;32m<ipython-input-1-fa7831b3ac4c>\u001b[0m in \u001b[0;36m<module>\u001b[0;34m\u001b[0m\n\u001b[1;32m      8\u001b[0m \u001b[0;31m# what is reported via IIS.\u001b[0m\u001b[0;34m\u001b[0m\u001b[0;34m\u001b[0m\u001b[0;34m\u001b[0m\u001b[0m\n\u001b[1;32m      9\u001b[0m \u001b[0;34m\u001b[0m\u001b[0m\n\u001b[0;32m---> 10\u001b[0;31m \u001b[0;32mfrom\u001b[0m \u001b[0mgurobipy\u001b[0m \u001b[0;32mimport\u001b[0m \u001b[0;34m*\u001b[0m\u001b[0;34m\u001b[0m\u001b[0;34m\u001b[0m\u001b[0m\n\u001b[0m\u001b[1;32m     11\u001b[0m \u001b[0;34m\u001b[0m\u001b[0m\n\u001b[1;32m     12\u001b[0m \u001b[0;31m# Number of workers required for each shift\u001b[0m\u001b[0;34m\u001b[0m\u001b[0;34m\u001b[0m\u001b[0;34m\u001b[0m\u001b[0m\n",
      "\u001b[0;31mModuleNotFoundError\u001b[0m: No module named 'gurobipy'"
     ]
    }
   ],
   "source": [
    "#!/usr/bin/python\n",
    "\n",
    "# Copyright 2018, Gurobi Optimization, LLC\n",
    "\n",
    "# Assign workers to shifts; each worker may or may not be available on a\n",
    "# particular day. If the problem cannot be solved, use IIS to find a set of\n",
    "# conflicting constraints. Note that there may be additional conflicts besides\n",
    "# what is reported via IIS.\n",
    "\n",
    "from gurobipy import *\n",
    "\n",
    "# Number of workers required for each shift\n",
    "shifts, shiftRequirements = multidict({\n",
    "  \"Mon1\":  3,\n",
    "  \"Tue2\":  2,\n",
    "  \"Wed3\":  8,\n",
    "  \"Thu4\":  2,\n",
    "  \"Fri5\":  5,\n",
    "  \"Sat6\":  3,\n",
    "  \"Sun7\":  4,\n",
    "  \"Mon8\":  2,\n",
    "  \"Tue9\":  2,\n",
    "  \"Wed10\": 3,\n",
    "  \"Thu11\": 4,\n",
    "  \"Fri12\": 3,\n",
    "  \"Sat13\": 7,\n",
    "  \"Sun14\": 5 })\n",
    "\n",
    "# Amount each worker is paid to work one shift\n",
    "workers, pay = multidict({\n",
    "  \"Amy\":   10,\n",
    "  \"Bob\":   12,\n",
    "  \"Cathy\": 10,\n",
    "  \"Dan\":   8,\n",
    "  \"Ed\":    8,\n",
    "  \"Fred\":  9,\n",
    "  \"Gu\":    11 })\n",
    "\n",
    "# Worker availability\n",
    "availability = tuplelist([\n",
    "('Amy', 'Tue2'), ('Amy', 'Wed3'), ('Amy', 'Fri5'), ('Amy', 'Sun7'),\n",
    "('Amy', 'Tue9'), ('Amy', 'Wed10'), ('Amy', 'Thu11'), ('Amy', 'Fri12'),\n",
    "('Amy', 'Sat13'), ('Amy', 'Sun14'), ('Bob', 'Mon1'), ('Bob', 'Tue2'),\n",
    "('Bob', 'Fri5'), ('Bob', 'Sat6'), ('Bob', 'Mon8'), ('Bob', 'Thu11'),\n",
    "('Bob', 'Sat13'), ('Cathy', 'Wed3'), ('Cathy', 'Thu4'), ('Cathy', 'Fri5'),\n",
    "('Cathy', 'Sun7'), ('Cathy', 'Mon8'), ('Cathy', 'Tue9'), ('Cathy', 'Wed10'),\n",
    "('Cathy', 'Thu11'), ('Cathy', 'Fri12'), ('Cathy', 'Sat13'),\n",
    "('Cathy', 'Sun14'), ('Dan', 'Tue2'), ('Dan', 'Wed3'), ('Dan', 'Fri5'),\n",
    "('Dan', 'Sat6'), ('Dan', 'Mon8'), ('Dan', 'Tue9'), ('Dan', 'Wed10'),\n",
    "('Dan', 'Thu11'), ('Dan', 'Fri12'), ('Dan', 'Sat13'), ('Dan', 'Sun14'),\n",
    "('Ed', 'Mon1'), ('Ed', 'Tue2'), ('Ed', 'Wed3'), ('Ed', 'Thu4'),\n",
    "('Ed', 'Fri5'), ('Ed', 'Sun7'), ('Ed', 'Mon8'), ('Ed', 'Tue9'),\n",
    "('Ed', 'Thu11'), ('Ed', 'Sat13'), ('Ed', 'Sun14'), ('Fred', 'Mon1'),\n",
    "('Fred', 'Tue2'), ('Fred', 'Wed3'), ('Fred', 'Sat6'), ('Fred', 'Mon8'),\n",
    "('Fred', 'Tue9'), ('Fred', 'Fri12'), ('Fred', 'Sat13'), ('Fred', 'Sun14'),\n",
    "('Gu', 'Mon1'), ('Gu', 'Tue2'), ('Gu', 'Wed3'), ('Gu', 'Fri5'),\n",
    "('Gu', 'Sat6'), ('Gu', 'Sun7'), ('Gu', 'Mon8'), ('Gu', 'Tue9'),\n",
    "('Gu', 'Wed10'), ('Gu', 'Thu11'), ('Gu', 'Fri12'), ('Gu', 'Sat13'),\n",
    "('Gu', 'Sun14')\n",
    "])"
   ]
  },
  {
   "cell_type": "code",
   "execution_count": 2,
   "metadata": {},
   "outputs": [
    {
     "ename": "NameError",
     "evalue": "name 'multidict' is not defined",
     "output_type": "error",
     "traceback": [
      "\u001b[0;31m---------------------------------------------------------------------------\u001b[0m",
      "\u001b[0;31mNameError\u001b[0m                                 Traceback (most recent call last)",
      "\u001b[0;32m<ipython-input-2-c52a0b1d15ae>\u001b[0m in \u001b[0;36m<module>\u001b[0;34m\u001b[0m\n\u001b[0;32m----> 1\u001b[0;31m multidict({\n\u001b[0m\u001b[1;32m      2\u001b[0m   \u001b[0;34m\"Mon1\"\u001b[0m\u001b[0;34m:\u001b[0m  \u001b[0;36m3\u001b[0m\u001b[0;34m,\u001b[0m\u001b[0;34m\u001b[0m\u001b[0;34m\u001b[0m\u001b[0m\n\u001b[1;32m      3\u001b[0m   \u001b[0;34m\"Tue2\"\u001b[0m\u001b[0;34m:\u001b[0m  \u001b[0;36m2\u001b[0m\u001b[0;34m,\u001b[0m\u001b[0;34m\u001b[0m\u001b[0;34m\u001b[0m\u001b[0m\n\u001b[1;32m      4\u001b[0m   \u001b[0;34m\"Wed3\"\u001b[0m\u001b[0;34m:\u001b[0m  \u001b[0;36m8\u001b[0m\u001b[0;34m,\u001b[0m\u001b[0;34m\u001b[0m\u001b[0;34m\u001b[0m\u001b[0m\n\u001b[1;32m      5\u001b[0m   \u001b[0;34m\"Thu4\"\u001b[0m\u001b[0;34m:\u001b[0m  \u001b[0;36m2\u001b[0m\u001b[0;34m,\u001b[0m\u001b[0;34m\u001b[0m\u001b[0;34m\u001b[0m\u001b[0m\n",
      "\u001b[0;31mNameError\u001b[0m: name 'multidict' is not defined"
     ]
    }
   ],
   "source": [
    "multidict({\n",
    "  \"Mon1\":  3,\n",
    "  \"Tue2\":  2,\n",
    "  \"Wed3\":  8,\n",
    "  \"Thu4\":  2,\n",
    "  \"Fri5\":  5,\n",
    "  \"Sat6\":  3,\n",
    "  \"Sun7\":  4,\n",
    "  \"Mon8\":  2,\n",
    "  \"Tue9\":  2,\n",
    "  \"Wed10\": 3,\n",
    "  \"Thu11\": 4,\n",
    "  \"Fri12\": 3,\n",
    "  \"Sat13\": 7,\n",
    "  \"Sun14\": 5 })"
   ]
  },
  {
   "cell_type": "code",
   "execution_count": null,
   "metadata": {},
   "outputs": [],
   "source": []
  },
  {
   "cell_type": "code",
   "execution_count": 14,
   "metadata": {},
   "outputs": [
    {
     "name": "stdout",
     "output_type": "stream",
     "text": [
      "Optimize a model with 14 rows, 72 columns and 72 nonzeros\n",
      "Coefficient statistics:\n",
      "  Matrix range     [1e+00, 1e+00]\n",
      "  Objective range  [8e+00, 1e+01]\n",
      "  Bounds range     [1e+00, 1e+00]\n",
      "  RHS range        [2e+00, 8e+00]\n",
      "Presolve removed 3 rows and 37 columns\n",
      "Presolve time: 0.01s\n",
      "\n",
      "Solved in 0 iterations and 0.01 seconds\n",
      "Infeasible model\n",
      "The model is infeasible; computing IIS\n",
      "\n",
      "IIS computed: 1 constraints and 6 bounds\n",
      "IIS runtime: 0.00 seconds\n",
      "\n",
      "The following constraint(s) cannot be satisfied:\n",
      "Wed3\n"
     ]
    }
   ],
   "source": [
    "# Model\n",
    "m = Model(\"assignment\")\n",
    "\n",
    "# Assignment variables: x[w,s] == 1 if worker w is assigned to shift s.\n",
    "# Since an assignment model always produces integer solutions, we use\n",
    "# continuous variables and solve as an LP.\n",
    "x = m.addVars(availability, ub=1, name=\"x\")\n",
    "\n",
    "# The objective is to minimize the total pay costs\n",
    "m.setObjective(quicksum(pay[w]*x[w,s] for w,s in availability), GRB.MINIMIZE)\n",
    "\n",
    "# Constraints: assign exactly shiftRequirements[s] workers to each shift s\n",
    "reqCts = m.addConstrs((x.sum('*', s) == shiftRequirements[s]\n",
    "                      for s in shifts), \"_\")\n",
    "\n",
    "# Using Python looping constructs, the preceding statement would be...\n",
    "#\n",
    "# reqCts = {}\n",
    "# for s in shifts:\n",
    "#   reqCts[s] = m.addConstr(\n",
    "#        quicksum(x[w,s] for w,s in availability.select('*', s)) ==\n",
    "#        shiftRequirements[s], s)\n",
    "\n",
    "# Save model\n",
    "m.write('workforce1.lp')\n",
    "\n",
    "# Optimize\n",
    "m.optimize()\n",
    "status = m.status\n",
    "if status == GRB.Status.UNBOUNDED:\n",
    "    print('The model cannot be solved because it is unbounded')\n",
    "    exit(0)\n",
    "if status == GRB.Status.OPTIMAL:\n",
    "    print('The optimal objective is %g' % m.objVal)\n",
    "    for w,s in availability:\n",
    "        if x[w,s].x>0.99:\n",
    "            print('%s is assigned to shift %s' %(w, s))\n",
    "    exit(0)\n",
    "if status != GRB.Status.INF_OR_UNBD and status != GRB.Status.INFEASIBLE:\n",
    "    print('Optimization was stopped with status %d' % status)\n",
    "    exit(0)\n",
    "\n",
    "# do IIS - Irreducible Inconsistent Subsystem -\n",
    "\n",
    "print('The model is infeasible; computing IIS')\n",
    "m.computeIIS()\n",
    "print('\\nThe following constraint(s) cannot be satisfied:')\n",
    "for c in m.getConstrs():\n",
    "    if c.IISConstr:\n",
    "        print('%s' % c.constrName)"
   ]
  },
  {
   "cell_type": "code",
   "execution_count": null,
   "metadata": {},
   "outputs": [],
   "source": []
  },
  {
   "cell_type": "code",
   "execution_count": null,
   "metadata": {},
   "outputs": [],
   "source": []
  },
  {
   "cell_type": "code",
   "execution_count": null,
   "metadata": {},
   "outputs": [],
   "source": []
  }
 ],
 "metadata": {
  "kernelspec": {
   "display_name": "Python 3",
   "language": "python",
   "name": "python3"
  },
  "language_info": {
   "codemirror_mode": {
    "name": "ipython",
    "version": 3
   },
   "file_extension": ".py",
   "mimetype": "text/x-python",
   "name": "python",
   "nbconvert_exporter": "python",
   "pygments_lexer": "ipython3",
   "version": "3.7.3"
  }
 },
 "nbformat": 4,
 "nbformat_minor": 2
}
