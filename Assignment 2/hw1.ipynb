{
 "cells": [
  {
   "cell_type": "code",
   "execution_count": 7,
   "metadata": {},
   "outputs": [
    {
     "data": {
      "text/plain": [
       "3452"
      ]
     },
     "execution_count": 7,
     "metadata": {},
     "output_type": "execute_result"
    }
   ],
   "source": [
    "import gc\n",
    "import os\n",
    "import time\n",
    "import math\n",
    "import numpy as np\n",
    "import pandas as pd\n",
    "import networkx as nx\n",
    "import matplotlib\n",
    "import matplotlib.pyplot as plt\n",
    "from tqdm import tqdm_notebook\n",
    "\n",
    "from pylab import rcParams\n",
    "rcParams['figure.figsize'] = 10, 10\n",
    "\n",
    "gc.collect()"
   ]
  },
  {
   "cell_type": "code",
   "execution_count": 8,
   "metadata": {},
   "outputs": [],
   "source": [
    "def distance(p1, p2):\n",
    "    return math.sqrt((p1[0] - p2[0])**2 + (p1[1] - p2[1])**2)\n",
    "\n",
    "def getPositions(G):\n",
    "    return [tuple(i[1].values()) for i in G.nodes.data()]\n",
    "\n",
    "def getLabels(G):\n",
    "    return [i[0] for i in G.nodes.data()]\n",
    "\n",
    "def saveGraph(G, pos, label, title, path):\n",
    "    f = plt.figure()\n",
    "    nx.draw_networkx(\n",
    "        G, \n",
    "        pos=pos, \n",
    "        node_size=200, \n",
    "        label=label,\n",
    "        node_color=\"yellow\",\n",
    "        ax=f.add_subplot(111),\n",
    "    )\n",
    "    f.suptitle(title, fontsize=20)\n",
    "    f.savefig(path)\n",
    "    plt.close()"
   ]
  },
  {
   "cell_type": "code",
   "execution_count": 9,
   "metadata": {},
   "outputs": [],
   "source": [
    "def generateComTree(n):\n",
    "    G = nx.Graph()\n",
    "    for index in range(n):\n",
    "        G.add_node(\n",
    "            index, \n",
    "            x=np.random.uniform(), \n",
    "            y=np.random.uniform()\n",
    "        )\n",
    "    \n",
    "    \n",
    "    for ind1 in range(n):\n",
    "        for ind2 in range(n):\n",
    "            G.add_edge(\n",
    "                ind1, ind2, \n",
    "                weight=distance(\n",
    "                    list(G.nodes[ind1].values()), list(G.nodes[ind2].values())\n",
    "                )\n",
    "            )\n",
    "            \n",
    "    positions = [tuple(i[1].values()) for i in G.nodes.data()]\n",
    "    labels = [i[0] for i in G.nodes.data()]\n",
    "    nx.draw_networkx(\n",
    "        G, pos=positions, \n",
    "        node_size=200, label=labels,\n",
    "        node_color=\"yellow\"\n",
    "    )\n",
    "    \n",
    "    return G"
   ]
  },
  {
   "cell_type": "code",
   "execution_count": null,
   "metadata": {},
   "outputs": [],
   "source": []
  }
 ],
 "metadata": {
  "kernelspec": {
   "display_name": "Python 3",
   "language": "python",
   "name": "python3"
  },
  "language_info": {
   "codemirror_mode": {
    "name": "ipython",
    "version": 3
   },
   "file_extension": ".py",
   "mimetype": "text/x-python",
   "name": "python",
   "nbconvert_exporter": "python",
   "pygments_lexer": "ipython3",
   "version": "3.7.3"
  }
 },
 "nbformat": 4,
 "nbformat_minor": 2
}
